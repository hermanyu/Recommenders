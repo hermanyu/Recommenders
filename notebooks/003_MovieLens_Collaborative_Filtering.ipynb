{
 "cells": [
  {
   "cell_type": "markdown",
   "id": "a95e2420-050c-462e-a17c-45d46894de18",
   "metadata": {},
   "source": [
    "# MovieLens: Collaborative Filtering"
   ]
  },
  {
   "cell_type": "markdown",
   "id": "602d9d58-9ab7-4515-ae4e-33645c478386",
   "metadata": {},
   "source": [
    "This notebook explores the concept of collaborative filtering recommender models using a basic nearest-neighbors method. We use the [Surprise Library](https://surprise.readthedocs.io/en/stable/index.html) to load and split data, as well as fit models. The central reference for the ideas explored here will be Arggawal, Charu C. - Recommender Systems, The Textbook."
   ]
  },
  {
   "cell_type": "markdown",
   "id": "18313b32-93b9-40b1-acbb-6722d354fb55",
   "metadata": {},
   "source": [
    "# Setup"
   ]
  },
  {
   "cell_type": "markdown",
   "id": "4b210e6a-3873-4bd5-98fd-d65324860754",
   "metadata": {},
   "source": [
    "## Import Packages"
   ]
  },
  {
   "cell_type": "code",
   "execution_count": 16,
   "id": "bb661083-dcc5-47ee-9f62-17d58e0ec5cb",
   "metadata": {},
   "outputs": [],
   "source": [
    "import numpy as np\n",
    "import pandas as pd\n",
    "import surprise\n",
    "\n",
    "import sys\n",
    "sys.path.insert(1, \"..\")\n",
    "\n",
    "from source_code.Python import get_data"
   ]
  },
  {
   "cell_type": "code",
   "execution_count": 57,
   "id": "b6cf5ae7-6b51-401a-aa40-3b6dd7de43c8",
   "metadata": {
    "tags": []
   },
   "outputs": [],
   "source": [
    "df_ratings = get_data.get_movielens_small_ratings()\n",
    "df_movies = get_data.get_movielens_small_movies()"
   ]
  },
  {
   "cell_type": "code",
   "execution_count": 58,
   "id": "587099c6-d162-431f-b933-f5f25959579b",
   "metadata": {
    "tags": []
   },
   "outputs": [
    {
     "data": {
      "text/html": [
       "<div>\n",
       "<style scoped>\n",
       "    .dataframe tbody tr th:only-of-type {\n",
       "        vertical-align: middle;\n",
       "    }\n",
       "\n",
       "    .dataframe tbody tr th {\n",
       "        vertical-align: top;\n",
       "    }\n",
       "\n",
       "    .dataframe thead th {\n",
       "        text-align: right;\n",
       "    }\n",
       "</style>\n",
       "<table border=\"1\" class=\"dataframe\">\n",
       "  <thead>\n",
       "    <tr style=\"text-align: right;\">\n",
       "      <th></th>\n",
       "      <th>userId</th>\n",
       "      <th>movieId</th>\n",
       "      <th>rating</th>\n",
       "      <th>timestamp</th>\n",
       "    </tr>\n",
       "  </thead>\n",
       "  <tbody>\n",
       "    <tr>\n",
       "      <th>0</th>\n",
       "      <td>1</td>\n",
       "      <td>1</td>\n",
       "      <td>4.0</td>\n",
       "      <td>964982703</td>\n",
       "    </tr>\n",
       "    <tr>\n",
       "      <th>1</th>\n",
       "      <td>1</td>\n",
       "      <td>3</td>\n",
       "      <td>4.0</td>\n",
       "      <td>964981247</td>\n",
       "    </tr>\n",
       "    <tr>\n",
       "      <th>2</th>\n",
       "      <td>1</td>\n",
       "      <td>6</td>\n",
       "      <td>4.0</td>\n",
       "      <td>964982224</td>\n",
       "    </tr>\n",
       "    <tr>\n",
       "      <th>3</th>\n",
       "      <td>1</td>\n",
       "      <td>47</td>\n",
       "      <td>5.0</td>\n",
       "      <td>964983815</td>\n",
       "    </tr>\n",
       "    <tr>\n",
       "      <th>4</th>\n",
       "      <td>1</td>\n",
       "      <td>50</td>\n",
       "      <td>5.0</td>\n",
       "      <td>964982931</td>\n",
       "    </tr>\n",
       "  </tbody>\n",
       "</table>\n",
       "</div>"
      ],
      "text/plain": [
       "   userId  movieId  rating  timestamp\n",
       "0       1        1     4.0  964982703\n",
       "1       1        3     4.0  964981247\n",
       "2       1        6     4.0  964982224\n",
       "3       1       47     5.0  964983815\n",
       "4       1       50     5.0  964982931"
      ]
     },
     "execution_count": 58,
     "metadata": {},
     "output_type": "execute_result"
    }
   ],
   "source": [
    "df_ratings.head()"
   ]
  },
  {
   "cell_type": "code",
   "execution_count": 59,
   "id": "524c776c-53c6-4a92-85c3-0e0603da979e",
   "metadata": {
    "tags": []
   },
   "outputs": [
    {
     "data": {
      "text/plain": [
       "userId         int64\n",
       "movieId        int64\n",
       "rating       float64\n",
       "timestamp      int64\n",
       "dtype: object"
      ]
     },
     "execution_count": 59,
     "metadata": {},
     "output_type": "execute_result"
    }
   ],
   "source": [
    "df_ratings.dtypes"
   ]
  },
  {
   "cell_type": "markdown",
   "id": "01892816-7a08-4bdf-b934-407b0e56ca34",
   "metadata": {},
   "source": [
    "## Instantiate Objects"
   ]
  },
  {
   "cell_type": "code",
   "execution_count": 60,
   "id": "5cf7cb15-3576-4a77-90ab-a82dd0a89ccb",
   "metadata": {},
   "outputs": [],
   "source": [
    "# instantiate Reader and Dataset objects; point to existing dataframe\n",
    "reader_df = surprise.Reader(rating_scale = (1,5))\n",
    "dataset_df = surprise.Dataset.load_from_df(df_ratings[[\"userId\", \"movieId\", \"rating\"]], reader = reader_df)"
   ]
  },
  {
   "cell_type": "markdown",
   "id": "7b32389e-fb6e-4f2e-b334-a3adc3557c29",
   "metadata": {},
   "source": [
    "# Collaborative Filtering"
   ]
  },
  {
   "cell_type": "markdown",
   "id": "bdf1057c-e140-453f-9e02-aa2cc9d20655",
   "metadata": {},
   "source": [
    "The basic idea behind **collaborative filtering** is to find groups of users with similar behaviors and use each behavior of one user in the group to predict the behavior of other users in the group. In this way, the user's \"collaborate\" to fill in the missing data. This specific idea is called **user-user** collaborative filtering.\n",
    "\n",
    "The same logic can be used on items to find groups of items that are similar and to use this similarity to predict missing data; this specific idea is called **item-item** collaborative filtering."
   ]
  },
  {
   "cell_type": "markdown",
   "id": "afd1d89f-455a-4311-aa07-5579b964f994",
   "metadata": {},
   "source": [
    "# User-User Collaborative Filtering"
   ]
  },
  {
   "cell_type": "markdown",
   "id": "f3251ece-932c-4458-8e4c-55b51c55efcd",
   "metadata": {},
   "source": [
    "## The Intuition"
   ]
  },
  {
   "cell_type": "markdown",
   "id": "190317ba-7c30-4ace-9ee2-67fa08e6cee0",
   "metadata": {},
   "source": [
    "The best way to explain user-user collaborative filtering is with a toy example. Suppose we had the following matrix ratings:"
   ]
  },
  {
   "cell_type": "code",
   "execution_count": 43,
   "id": "7b4b39fe-cc0e-4235-b2f3-8f4eed7e0636",
   "metadata": {
    "tags": []
   },
   "outputs": [
    {
     "data": {
      "text/html": [
       "<div>\n",
       "<style scoped>\n",
       "    .dataframe tbody tr th:only-of-type {\n",
       "        vertical-align: middle;\n",
       "    }\n",
       "\n",
       "    .dataframe tbody tr th {\n",
       "        vertical-align: top;\n",
       "    }\n",
       "\n",
       "    .dataframe thead th {\n",
       "        text-align: right;\n",
       "    }\n",
       "</style>\n",
       "<table border=\"1\" class=\"dataframe\">\n",
       "  <thead>\n",
       "    <tr style=\"text-align: right;\">\n",
       "      <th></th>\n",
       "      <th>Movie 1</th>\n",
       "      <th>Movie 2</th>\n",
       "      <th>Movie 3</th>\n",
       "      <th>Movie 4</th>\n",
       "      <th>Movie 5</th>\n",
       "      <th>Movie 6</th>\n",
       "    </tr>\n",
       "  </thead>\n",
       "  <tbody>\n",
       "    <tr>\n",
       "      <th>Alice</th>\n",
       "      <td>5</td>\n",
       "      <td>5</td>\n",
       "      <td>5</td>\n",
       "      <td>1</td>\n",
       "      <td>1</td>\n",
       "      <td>1.0</td>\n",
       "    </tr>\n",
       "    <tr>\n",
       "      <th>Bob</th>\n",
       "      <td>4</td>\n",
       "      <td>4</td>\n",
       "      <td>5</td>\n",
       "      <td>2</td>\n",
       "      <td>1</td>\n",
       "      <td>NaN</td>\n",
       "    </tr>\n",
       "  </tbody>\n",
       "</table>\n",
       "</div>"
      ],
      "text/plain": [
       "       Movie 1  Movie 2  Movie 3  Movie 4  Movie 5  Movie 6\n",
       "Alice        5        5        5        1        1      1.0\n",
       "Bob          4        4        5        2        1      NaN"
      ]
     },
     "execution_count": 43,
     "metadata": {},
     "output_type": "execute_result"
    }
   ],
   "source": [
    "users = [\"Alice\", \"Bob\"]\n",
    "\n",
    "example_data = {\n",
    "    \"Movie 1\" : [5, 4],\n",
    "    \"Movie 2\" : [5, 4],\n",
    "    \"Movie 3\" : [5, 5],\n",
    "    \"Movie 4\" : [1, 2],\n",
    "    \"Movie 5\" : [1, 1],\n",
    "    \"Movie 6\" : [1, np.NAN]\n",
    "}\n",
    "\n",
    "df_example = pd.DataFrame(example_data, index = users)\n",
    "\n",
    "df_example"
   ]
  },
  {
   "cell_type": "markdown",
   "id": "30eaea3b-128f-4232-b3b5-49ac6dc3f345",
   "metadata": {},
   "source": [
    "In this example, Alice and Bob rate movies 1 - 5 very similarly. Based on how similar they rate movies, we suspect Alice and Bob will probably rate Movie 6 very similarly as well. Since Alice already rated Movie 6 with a rating of 1, we can make an educated guess and say Bob will rate Movie 6 with a rating of 1."
   ]
  },
  {
   "cell_type": "code",
   "execution_count": 46,
   "id": "079697df-9056-41cd-9220-5e3768b6b3ae",
   "metadata": {},
   "outputs": [
    {
     "data": {
      "text/html": [
       "<div>\n",
       "<style scoped>\n",
       "    .dataframe tbody tr th:only-of-type {\n",
       "        vertical-align: middle;\n",
       "    }\n",
       "\n",
       "    .dataframe tbody tr th {\n",
       "        vertical-align: top;\n",
       "    }\n",
       "\n",
       "    .dataframe thead th {\n",
       "        text-align: right;\n",
       "    }\n",
       "</style>\n",
       "<table border=\"1\" class=\"dataframe\">\n",
       "  <thead>\n",
       "    <tr style=\"text-align: right;\">\n",
       "      <th></th>\n",
       "      <th>Movie 1</th>\n",
       "      <th>Movie 2</th>\n",
       "      <th>Movie 3</th>\n",
       "      <th>Movie 4</th>\n",
       "      <th>Movie 5</th>\n",
       "      <th>Movie 6</th>\n",
       "    </tr>\n",
       "  </thead>\n",
       "  <tbody>\n",
       "    <tr>\n",
       "      <th>Alice</th>\n",
       "      <td>5</td>\n",
       "      <td>5</td>\n",
       "      <td>5</td>\n",
       "      <td>1</td>\n",
       "      <td>1</td>\n",
       "      <td>1.0</td>\n",
       "    </tr>\n",
       "    <tr>\n",
       "      <th>Bob</th>\n",
       "      <td>4</td>\n",
       "      <td>4</td>\n",
       "      <td>5</td>\n",
       "      <td>2</td>\n",
       "      <td>1</td>\n",
       "      <td>1.0</td>\n",
       "    </tr>\n",
       "  </tbody>\n",
       "</table>\n",
       "</div>"
      ],
      "text/plain": [
       "       Movie 1  Movie 2  Movie 3  Movie 4  Movie 5  Movie 6\n",
       "Alice        5        5        5        1        1      1.0\n",
       "Bob          4        4        5        2        1      1.0"
      ]
     },
     "execution_count": 46,
     "metadata": {},
     "output_type": "execute_result"
    }
   ],
   "source": [
    "# make educated guess that Bob's rating of movie 6 is equal to Alice's rating of Movie 6\n",
    "# based on how similar they are\n",
    "guess_bob_movie_6 = df_example.loc[\"Alice\", \"Movie 6\"]\n",
    "\n",
    "# fill in missing rating with guess\n",
    "df_example.loc[\"Bob\", \"Movie 6\"] = guess_bob_movie_6\n",
    "\n",
    "df_example"
   ]
  },
  {
   "cell_type": "markdown",
   "id": "17e8a455-9097-4bfd-9955-3894d17991f9",
   "metadata": {},
   "source": [
    "This technique for using Alice's rating to guess Bob's rating is precisely user-user collaborative filtering.\n",
    "\n",
    "This idea also generalizes to 3 or more users and its power also becomes more apparant."
   ]
  },
  {
   "cell_type": "code",
   "execution_count": 55,
   "id": "382552cc-aced-4bd6-86d9-48712f6ae0d5",
   "metadata": {},
   "outputs": [
    {
     "data": {
      "text/html": [
       "<div>\n",
       "<style scoped>\n",
       "    .dataframe tbody tr th:only-of-type {\n",
       "        vertical-align: middle;\n",
       "    }\n",
       "\n",
       "    .dataframe tbody tr th {\n",
       "        vertical-align: top;\n",
       "    }\n",
       "\n",
       "    .dataframe thead th {\n",
       "        text-align: right;\n",
       "    }\n",
       "</style>\n",
       "<table border=\"1\" class=\"dataframe\">\n",
       "  <thead>\n",
       "    <tr style=\"text-align: right;\">\n",
       "      <th></th>\n",
       "      <th>Movie 1</th>\n",
       "      <th>Movie 2</th>\n",
       "      <th>Movie 3</th>\n",
       "      <th>Movie 4</th>\n",
       "      <th>Movie 5</th>\n",
       "      <th>Movie 6</th>\n",
       "    </tr>\n",
       "  </thead>\n",
       "  <tbody>\n",
       "    <tr>\n",
       "      <th>Alice</th>\n",
       "      <td>5</td>\n",
       "      <td>NaN</td>\n",
       "      <td>5</td>\n",
       "      <td>1</td>\n",
       "      <td>1</td>\n",
       "      <td>1.0</td>\n",
       "    </tr>\n",
       "    <tr>\n",
       "      <th>Bob</th>\n",
       "      <td>4</td>\n",
       "      <td>NaN</td>\n",
       "      <td>5</td>\n",
       "      <td>2</td>\n",
       "      <td>1</td>\n",
       "      <td>NaN</td>\n",
       "    </tr>\n",
       "    <tr>\n",
       "      <th>Chris</th>\n",
       "      <td>5</td>\n",
       "      <td>5.0</td>\n",
       "      <td>5</td>\n",
       "      <td>2</td>\n",
       "      <td>1</td>\n",
       "      <td>NaN</td>\n",
       "    </tr>\n",
       "  </tbody>\n",
       "</table>\n",
       "</div>"
      ],
      "text/plain": [
       "       Movie 1  Movie 2  Movie 3  Movie 4  Movie 5  Movie 6\n",
       "Alice        5      NaN        5        1        1      1.0\n",
       "Bob          4      NaN        5        2        1      NaN\n",
       "Chris        5      5.0        5        2        1      NaN"
      ]
     },
     "execution_count": 55,
     "metadata": {},
     "output_type": "execute_result"
    }
   ],
   "source": [
    "users = [\"Alice\", \"Bob\", \"Chris\"]\n",
    "\n",
    "example_data = {\n",
    "    \"Movie 1\" : [5, 4, 5],\n",
    "    \"Movie 2\" : [np.NaN, np.NaN, 5],\n",
    "    \"Movie 3\" : [5, 5, 5],\n",
    "    \"Movie 4\" : [1, 2, 2],\n",
    "    \"Movie 5\" : [1, 1, 1],\n",
    "    \"Movie 6\" : [1, np.NAN, np.NaN]\n",
    "}\n",
    "\n",
    "df_example = pd.DataFrame(example_data, index = users)\n",
    "\n",
    "df_example"
   ]
  },
  {
   "cell_type": "markdown",
   "id": "3ba48633-1aaa-4b9d-b97a-8f2ac0c8d3b0",
   "metadata": {},
   "source": [
    "In this example, Alice, Bob, and Chris all seem to rate movies in a similar fashion. Our natural instinct is to use each user's rating to fill in the missing data.\n",
    "\n",
    "Alice and Bob are both missing a rating for Movie 2, but since Charlie is pretty similar to both Alice and Bob, we can use Chris' rating to fill in the missing data.\n",
    "\n",
    "Bob and Chris are both missing a rating for Movie 6, but since Alice is pretty similar to both Bob and Chris, we can use Alice's rating to fill in the missing data."
   ]
  },
  {
   "cell_type": "code",
   "execution_count": 56,
   "id": "1707e4fb-ba8c-462d-9cf6-28ec78bb0f65",
   "metadata": {},
   "outputs": [
    {
     "data": {
      "text/html": [
       "<div>\n",
       "<style scoped>\n",
       "    .dataframe tbody tr th:only-of-type {\n",
       "        vertical-align: middle;\n",
       "    }\n",
       "\n",
       "    .dataframe tbody tr th {\n",
       "        vertical-align: top;\n",
       "    }\n",
       "\n",
       "    .dataframe thead th {\n",
       "        text-align: right;\n",
       "    }\n",
       "</style>\n",
       "<table border=\"1\" class=\"dataframe\">\n",
       "  <thead>\n",
       "    <tr style=\"text-align: right;\">\n",
       "      <th></th>\n",
       "      <th>Movie 1</th>\n",
       "      <th>Movie 2</th>\n",
       "      <th>Movie 3</th>\n",
       "      <th>Movie 4</th>\n",
       "      <th>Movie 5</th>\n",
       "      <th>Movie 6</th>\n",
       "    </tr>\n",
       "  </thead>\n",
       "  <tbody>\n",
       "    <tr>\n",
       "      <th>Alice</th>\n",
       "      <td>5</td>\n",
       "      <td>5.0</td>\n",
       "      <td>5</td>\n",
       "      <td>1</td>\n",
       "      <td>1</td>\n",
       "      <td>1.0</td>\n",
       "    </tr>\n",
       "    <tr>\n",
       "      <th>Bob</th>\n",
       "      <td>4</td>\n",
       "      <td>5.0</td>\n",
       "      <td>5</td>\n",
       "      <td>2</td>\n",
       "      <td>1</td>\n",
       "      <td>1.0</td>\n",
       "    </tr>\n",
       "    <tr>\n",
       "      <th>Chris</th>\n",
       "      <td>5</td>\n",
       "      <td>5.0</td>\n",
       "      <td>5</td>\n",
       "      <td>2</td>\n",
       "      <td>1</td>\n",
       "      <td>1.0</td>\n",
       "    </tr>\n",
       "  </tbody>\n",
       "</table>\n",
       "</div>"
      ],
      "text/plain": [
       "       Movie 1  Movie 2  Movie 3  Movie 4  Movie 5  Movie 6\n",
       "Alice        5      5.0        5        1        1      1.0\n",
       "Bob          4      5.0        5        2        1      1.0\n",
       "Chris        5      5.0        5        2        1      1.0"
      ]
     },
     "execution_count": 56,
     "metadata": {},
     "output_type": "execute_result"
    }
   ],
   "source": [
    "# make educated guess on Alice and Bob rating of Movie 2\n",
    "# based on similarity with Chris\n",
    "guess_movie_2 = df_example.loc[\"Chris\", \"Movie 2\"]\n",
    "\n",
    "# make educated guess on Bob and Chris rating of Movie 2\n",
    "# based on similarity with Alice\n",
    "guess_movie_6 = df_example.loc[\"Alice\", \"Movie 6\"]\n",
    "\n",
    "# fill in missing ratings with guesses\n",
    "df_example.loc[\"Alice\", \"Movie 2\"] = guess_movie_2\n",
    "df_example.loc[\"Bob\", \"Movie 2\"] = guess_movie_2\n",
    "\n",
    "df_example.loc[\"Bob\", \"Movie 6\"] = guess_movie_6\n",
    "df_example.loc[\"Chris\", \"Movie 6\"] = guess_movie_6\n",
    "\n",
    "df_example"
   ]
  },
  {
   "cell_type": "markdown",
   "id": "f057a16f-967d-47fe-a3d7-a1cb6682bb27",
   "metadata": {},
   "source": [
    "Notice that the 3 users essentially \"cover\" each other's gaps, hence the name \"Collaborative Filtering\"."
   ]
  },
  {
   "cell_type": "markdown",
   "id": "7f658690-18d0-4a91-aee6-cd8078e402ee",
   "metadata": {},
   "source": [
    "## The Theory"
   ]
  },
  {
   "cell_type": "markdown",
   "id": "a4fba3a0-ee10-4332-9d0d-3eef454b4563",
   "metadata": {},
   "source": [
    "The example above is useful for developing the intuition, but it's not immediately obvious how we would automate this whole process with a machine. There are 2 central questions we have to answer in order to achieve machine automation.\n",
    "\n",
    "1) Given any two users Alice and Bob, how do we determine if Alice and Bob are similar? In fact, given any user U, how do we find the users most similar to U?\n",
    "\n",
    "2) Once we find users most similar to user U, how do we construct a guess for User U's missing ratings?\n",
    "\n",
    "Question 1 is the elephant in the room: we need a way to quantify the \"similarity\" between two users in order to determine how the missing ratings get filled.\n",
    "\n",
    "Question 2 is a bit more subtle: given user U, what happens if multiple user's are tied in their similarility to user U? What happens if all the similar users are also missing the same ratings as User U?"
   ]
  },
  {
   "cell_type": "markdown",
   "id": "cc67ce26-a899-455e-a1ca-cf123be5e9be",
   "metadata": {},
   "source": [
    "## Similarity Scores"
   ]
  },
  {
   "cell_type": "markdown",
   "id": "94c6c6c6-ee93-49fd-891f-4390232d7eb5",
   "metadata": {},
   "source": [
    "Given two users A and B, we wish to quantify their similarity. Intuitively, two user's are more \"similar\" if they rate the same movies with approximately the same scores. Users are considered less similar if they rate the same movies with very different scores.\n",
    "\n",
    "This vague definition actually motivates a mathematically rigorous definition. Suppose we had two users A and B. Let $M_{A,B}$ be the set of movies that have been rated by both user A and user B.\n",
    "Since $M_{A,B}$ contains all the movies rated by user A and user B, we can write down the ratings of user A and user B on this common set of movies. Represent these ratings on $M_{A,B}$ using the vectors:\n",
    "\n",
    "$$r_A = [a_1, \\ldots, a_n]$$\n",
    "$$r_B = [b_1, \\ldots, b_n]$$\n",
    "\n",
    "User A and user B are considered \"similar\" if the values in these two vectors are roughly the same. Since vectors can be thought of arrows in space, the values of the vectors are approximately the same precisely when the arrows are \"near\" each other. Thus we can just define **similarity** as the distance between the vectors $r_A$ and $r_B$.\n",
    "\n",
    "Now, there are 3 possible ways to measure distance between vectors.\n",
    "\n",
    "1) **Euclidean distance** measures the distance between the points defined by vectors $r_A$ and $r_B$.\n",
    "$$Sim(A,B) = |r_A - r_B| = \\sqrt{(a_1 - b_1)^2 + \\ldots + (a_n - b_n)^2}$$\n",
    "\n",
    "2) **Cosine distance** measures the angle between the vectors $r_A$ and $r_B$.\n",
    "\n",
    "$$Sim(A,B) = Cos(r_A, r_B) = \\frac{r_A \\cdot r_B}{|r_A| |r_b|}$$\n",
    "\n",
    "3) **Pearson Correlation** measures how often the values rise and fall together\n",
    "\n",
    "$$Sim(A,B) = Pearson(r_A, r_B) = \\frac{\\sum_{i=1}^n (a_i - \\overline{a})(b_i-\\overline{b})}{\\sqrt{\\sum_{i=1}^n(a_i - \\overline{a})^2}\\sqrt{\\sum_{i=1}^n(b_i - \\overline{b})^2}}$$"
   ]
  },
  {
   "cell_type": "markdown",
   "id": "0305d89d-a270-4c3b-8438-cb3da0e1ab32",
   "metadata": {},
   "source": [
    "### Minimum Sample Sizes"
   ]
  },
  {
   "cell_type": "markdown",
   "id": "105cf21d-33a5-4c48-9399-b52297e5af51",
   "metadata": {},
   "source": [
    "We thus have 3 possible ways of measuring distance and all are equally valid. However, for Euclidean and Cosine distance, there is a very subtle edge case we need to be aware of.\n",
    "\n",
    "Suppose users A, B, and C has the following ratings data:"
   ]
  },
  {
   "cell_type": "code",
   "execution_count": 80,
   "id": "6817c360-644d-470b-bc45-bd8228bb3945",
   "metadata": {},
   "outputs": [
    {
     "data": {
      "text/html": [
       "<div>\n",
       "<style scoped>\n",
       "    .dataframe tbody tr th:only-of-type {\n",
       "        vertical-align: middle;\n",
       "    }\n",
       "\n",
       "    .dataframe tbody tr th {\n",
       "        vertical-align: top;\n",
       "    }\n",
       "\n",
       "    .dataframe thead th {\n",
       "        text-align: right;\n",
       "    }\n",
       "</style>\n",
       "<table border=\"1\" class=\"dataframe\">\n",
       "  <thead>\n",
       "    <tr style=\"text-align: right;\">\n",
       "      <th></th>\n",
       "      <th>Movie 1</th>\n",
       "      <th>Movie 2</th>\n",
       "      <th>Movie 3</th>\n",
       "      <th>Movie 4</th>\n",
       "      <th>Movie 5</th>\n",
       "    </tr>\n",
       "  </thead>\n",
       "  <tbody>\n",
       "    <tr>\n",
       "      <th>A</th>\n",
       "      <td>5</td>\n",
       "      <td>5</td>\n",
       "      <td>4</td>\n",
       "      <td>1</td>\n",
       "      <td>1</td>\n",
       "    </tr>\n",
       "    <tr>\n",
       "      <th>B</th>\n",
       "      <td>5</td>\n",
       "      <td>4</td>\n",
       "      <td>4</td>\n",
       "      <td>1</td>\n",
       "      <td>1</td>\n",
       "    </tr>\n",
       "    <tr>\n",
       "      <th>C</th>\n",
       "      <td>5</td>\n",
       "      <td>NaN</td>\n",
       "      <td>NaN</td>\n",
       "      <td>NaN</td>\n",
       "      <td>NaN</td>\n",
       "    </tr>\n",
       "  </tbody>\n",
       "</table>\n",
       "</div>"
      ],
      "text/plain": [
       "  Movie 1 Movie 2 Movie 3 Movie 4 Movie 5\n",
       "A       5       5       4       1       1\n",
       "B       5       4       4       1       1\n",
       "C       5     NaN     NaN     NaN     NaN"
      ]
     },
     "execution_count": 80,
     "metadata": {},
     "output_type": "execute_result"
    }
   ],
   "source": [
    "df_example = pd.DataFrame(\n",
    "    columns = [\"Movie 1\", \"Movie 2\", \"Movie 3\", \"Movie 4\", \"Movie 5\"],\n",
    "    index = [\"A\", \"B\", \"C\"]\n",
    ")\n",
    "\n",
    "df_example.iloc[0, 0:5] = [5, 5, 4, 1, 1]\n",
    "df_example.iloc[1, 0:5] = [5, 4, 4, 1, 1]\n",
    "df_example.iloc[2, 0] = 5\n",
    "\n",
    "df_example"
   ]
  },
  {
   "cell_type": "markdown",
   "id": "0991ded3-d0b5-4a81-87dd-f4fd5b3dd0af",
   "metadata": {},
   "source": [
    "Before even doing any computations, we notice that user A and user B are nearly identical in all 5 movie ratings, so A and B should be most similar. \n",
    "\n",
    "Let's use cosine distance to measure the similarities between the users. By definition only the ratings for movies that A and B have rated are used. Since A and B both rated all 5 movies, we use all the values:\n",
    "\n",
    "$$Sim(A,B) = Cos(r_A, r_B) = \\frac{r_A \\cdot r_B}{|r_A| |r_b|}$$"
   ]
  },
  {
   "cell_type": "code",
   "execution_count": 87,
   "id": "8db9b7e7-1a73-4877-837f-f081a857d7e3",
   "metadata": {},
   "outputs": [
    {
     "data": {
      "text/plain": [
       "0.9946266402723094"
      ]
     },
     "execution_count": 87,
     "metadata": {},
     "output_type": "execute_result"
    }
   ],
   "source": [
    "r_A = np.array([5, 5, 4, 1, 1])\n",
    "r_B = np.array([5, 4, 4, 1, 1])\n",
    "\n",
    "sim_AB = np.dot(r_A, r_B)/(np.linalg.norm(r_A) * np.linalg.norm(r_B))\n",
    "\n",
    "sim_AB"
   ]
  },
  {
   "cell_type": "markdown",
   "id": "ee47c3b7-ed6c-425e-892a-7708baae8163",
   "metadata": {},
   "source": [
    "Therefore:\n",
    "\n",
    "$$Sim(A, B) = 0.995$$"
   ]
  },
  {
   "cell_type": "markdown",
   "id": "9fc2d496-fc4a-476a-867b-0d1d34f2a7dd",
   "metadata": {},
   "source": [
    "Now let's measure the cosine distance between A and C. Again, the definition requires us to use the movies that have been rated by both A and C. But since Movie 1 is the only such movie, that is the only score we use in the computation:\n",
    "\n",
    "$$Sim(A,C) = Cos(r_A, r_C) = \\frac{5 \\cdot 5}{|5| |5|} = 1$$"
   ]
  },
  {
   "cell_type": "markdown",
   "id": "ca92db39-0a11-4ce6-b099-f5ef4946df92",
   "metadata": {},
   "source": [
    "In particular, $Sim(A,C)$ is **greater** than $Sim(A,B)$, so our method for measuring similarity would return user C as most similar to user A. \n",
    "\n",
    "This is problematic because we know this is unreasonable. User C was most similar to user A because they just so happen to rate 1 single movie exactly the same. There is a very high probability that this similarity happend out of random chance.\n",
    "\n",
    "On the other hand, user B rated all 5 movies nearly identically to user A, so there is a much more evidence to suggest that user B is most similar to user A.\n",
    "\n",
    "The issue being highlighted here is similarity measures tend to be skewed by users that have very few ratings. For this reason, we often need to enforce a **minimum sample size** when measuring similarity between users. For example, we could stipulate that similarity scores $Sim(A, X)$ are only valid when the users have at rated at least 4 movies together. This would disqualify the score $Sim(A,C)$ and allow $Sim(A,B)$ to be the only valid score."
   ]
  },
  {
   "cell_type": "markdown",
   "id": "ff7e0b02-5246-4fa6-9e2b-89570f18ad70",
   "metadata": {},
   "source": [
    "## Prediction Function"
   ]
  },
  {
   "cell_type": "markdown",
   "id": "bc05fd18-4288-4618-8282-b9381c0b4020",
   "metadata": {},
   "source": [
    "Now that we can measure similarity between users, the next question we must answer is how to predict a user's rating. That is, given user U and movie $j$, we wish to predict $r_{uj}$."
   ]
  },
  {
   "cell_type": "markdown",
   "id": "776a334d-0d4b-4c6c-946d-caf425806c8b",
   "metadata": {},
   "source": [
    "### The Simple Approach"
   ]
  },
  {
   "cell_type": "markdown",
   "id": "ebef55bc-caf2-4fcb-b7ac-8fea19a1a250",
   "metadata": {},
   "source": [
    "The simplest idea we can think of is to find a user V for which $Sim(U,V)$ is the highest. This is the most similar user to user U. Then for any given movie $j$ we want to predict user U's rating for movie $j$ by using V's rating for movie $j$. That is, our prediction $\\hat{r_{uj}}$ is just:\n",
    "\n",
    "$$\\hat{r_{uj}} := r_{vj}$$\n",
    "\n",
    "This idea is very simple, but there are a few problems. Namely:\n",
    "\n",
    "1) What if user V is also missing a rating for movie $j$?\n",
    "\n",
    "2) What if user U and user V just so happen to have very different opinions about movie $j$?\n"
   ]
  },
  {
   "cell_type": "markdown",
   "id": "97edd62e-eb2e-4fb3-905e-4ab113d928d4",
   "metadata": {},
   "source": [
    "### The Better Approach: $k$-Nearest Neighbors"
   ]
  },
  {
   "cell_type": "markdown",
   "id": "5d8a37f9-7ef1-4ea1-96a2-574c142050bf",
   "metadata": {},
   "source": [
    "There isn't a way to fully eliminate either of these problems, but we can mitigate them to some extent by enlarging our pool of similar users. Specifically, instead of looking for the 1 most similar user, we can instead look for the top 30 (or however many) most similar users.\n",
    "\n",
    "1) This mitigates problem 1 because it is much less likely that all 30 users are missing a rating for movie $j$.\n",
    "\n",
    "2) This also mitigates problem 2 because a weighted average of 30 user's is more robust estimate, i.e. less influenced by random chance.\n",
    "\n",
    "So to make a prediction, let $N^k(U)$ be the set of the top $k$ most similar users to user U. Since similarity is based on distance, the most similar users are the \"closest neighbors\" to user U. For this reason, the users in $N^k(U)$ are called the **$k$-nearest neighbors** of user U. \n",
    "\n",
    "Since we want to make a prediction on movie $j$, we can only use the neighbors $N_j^k(U)$ of users that actually have rated movie $j$. Then our prediction for user U's rating on movie $j$ is given by the weighted average:\n",
    "\n",
    "$$\n",
    "\\hat{r_{uj}} = \\frac{\\sum_{v\\in N_j^k(U)} Sim(U,V) \\cdot r_{vi}}{\\sum_{v\\in N_j^k(U)} Sim(U,V)}\n",
    "$$\n",
    "\n",
    "Notice that this is a weighted average with the similarity scores being used as the weights. This actually makes perfect sense, since we want more similar users to be given more importance."
   ]
  },
  {
   "cell_type": "markdown",
   "id": "ab15dc3d-b968-484f-aa23-9422fcb96527",
   "metadata": {},
   "source": [
    "This $k$-nearest neighbors prediction model can be implemented using the Suprise library very easily."
   ]
  },
  {
   "cell_type": "code",
   "execution_count": 91,
   "id": "b26fcb2f-c399-481a-becf-994807e56354",
   "metadata": {},
   "outputs": [],
   "source": [
    "# specify how we want to measure similarity\n",
    "sim_options = {\n",
    "    \"name\" : \"cosine\",   # specifies cosine similarity\n",
    "    \"min_support\" : 5,   # disqualifies any sim. scores based on less than 5 movies in common\n",
    "    \"user_based\" : True, # specifies user-user collab filtering\n",
    "}\n",
    "\n",
    "# train-test split; 75% to train and 25% to test\n",
    "trainset, testset = surprise.model_selection.train_test_split(dataset_df, test_size = 0.25)\n",
    "\n",
    "# instantiate k-nearest neighbors model\n",
    "model_KNNBasic = surprise.prediction_algorithms.knns.KNNBasic(\n",
    "    k = 30,      # use 30 nearest neighbors\n",
    "    min_k = 1,   # minimum number of neighbors necessary to make a prediction\n",
    "    sim_options = sim_options, \n",
    "    verbose = True\n",
    ")"
   ]
  },
  {
   "cell_type": "code",
   "execution_count": 124,
   "id": "f0928ae6-b4c5-4e84-89cd-472463c9d5f6",
   "metadata": {},
   "outputs": [
    {
     "name": "stdout",
     "output_type": "stream",
     "text": [
      "Computing the cosine similarity matrix...\n",
      "Done computing similarity matrix.\n",
      "MSE: 0.9576\n"
     ]
    },
    {
     "data": {
      "text/plain": [
       "0.9575910113134967"
      ]
     },
     "execution_count": 124,
     "metadata": {},
     "output_type": "execute_result"
    }
   ],
   "source": [
    "# fit model; automatically computes similarity matrix first\n",
    "model_KNNBasic.fit(trainset)\n",
    "\n",
    "# evaluate model MSE on test set\n",
    "surprise.accuracy.mse(\n",
    "    model_KNNBasic.test(testset),\n",
    "    verbose = True\n",
    ")"
   ]
  },
  {
   "cell_type": "markdown",
   "id": "f5717c11-7b62-4143-b3cd-ee708805e0ce",
   "metadata": {},
   "source": [
    "The model is fit by first computing the matrix of user-user similarity scores. This matrix of similarity scores stores all the necessary data needed to make a prediction any givne user in matrix.\n",
    "\n",
    "We can check some of the similarity scores by picking a user contained in `trainset` and calling the `KNNBasic.get_neighbors()`"
   ]
  },
  {
   "cell_type": "code",
   "execution_count": 102,
   "id": "2dd4b56a-8ae2-4168-a066-f06bdcd15f06",
   "metadata": {},
   "outputs": [
    {
     "data": {
      "text/plain": [
       "True"
      ]
     },
     "execution_count": 102,
     "metadata": {},
     "output_type": "execute_result"
    }
   ],
   "source": [
    "# check if User 1 is in the training set\n",
    "trainset.knows_user(1)"
   ]
  },
  {
   "cell_type": "code",
   "execution_count": 104,
   "id": "d0bfb6a8-bba2-47ed-b1a5-5b764ce0c175",
   "metadata": {},
   "outputs": [
    {
     "data": {
      "text/plain": [
       "[(1, 2.5), (21, 2.0), (38, 4.0), (190, 2.5), (266, 3.0)]"
      ]
     },
     "execution_count": 104,
     "metadata": {},
     "output_type": "execute_result"
    }
   ],
   "source": [
    "# look at some of User 1's ratings in the training set\n",
    "trainset.ur[1][0:5]"
   ]
  },
  {
   "cell_type": "code",
   "execution_count": 107,
   "id": "1a613ddd-066f-4527-90b0-98ac7b456f45",
   "metadata": {},
   "outputs": [
    {
     "name": "stdout",
     "output_type": "stream",
     "text": [
      "[213, 505, 558, 606, 588, 573, 258, 493, 424, 603, 568, 371, 440, 527, 456, 185, 85, 249, 584, 143, 408, 507, 547, 381, 228, 388, 604, 229, 590, 248]\n"
     ]
    }
   ],
   "source": [
    "# get the 30 nearest neighbors to User 1\n",
    "# based on Sim. matrix computed from training set\n",
    "print(model_KNNBasic.get_neighbors(1, 30))"
   ]
  },
  {
   "cell_type": "markdown",
   "id": "b7715548-3064-42fb-a74d-8b05a3ee6b6a",
   "metadata": {},
   "source": [
    "Based on the specifications of the model, User 213 is the most similar to User 1, followed by User 505, 558, etc.\n",
    "\n",
    "These similarity scores are stored in a matrix in the `KNNBasic.sim` attribute. We can access the similarity scores for User 1 by directly indexing the matrix `KNNBasic.sim`"
   ]
  },
  {
   "cell_type": "code",
   "execution_count": 115,
   "id": "ef0a8064-85fc-40b3-ac4c-3ae5a0bc0521",
   "metadata": {},
   "outputs": [
    {
     "data": {
      "text/plain": [
       "array([1.        , 0.95130083, 0.90926338, 0.91952748, 0.96007409,\n",
       "       0.93156728, 0.93798816, 0.9488257 , 0.90938726, 0.94107136,\n",
       "       0.93108071, 0.9724034 , 0.94015282, 0.94460138, 0.93348199,\n",
       "       0.93814725, 0.96981794, 0.89521383, 0.90751146, 0.96748545,\n",
       "       0.90176999, 0.94205786, 0.96640729, 0.95798527, 0.94918384,\n",
       "       0.87430389, 0.92020642, 0.92456858, 0.94893108, 0.97164808,\n",
       "       0.94121299, 0.96058857, 0.95862437, 0.94840874, 0.92232512,\n",
       "       0.93820817, 0.9490064 , 0.95645982, 0.93349271, 0.92734198,\n",
       "       0.94571065, 0.95698427, 0.9340402 , 0.96283235, 0.97054113,\n",
       "       0.92741481, 0.94941908, 0.93642143, 0.94112604, 0.92336114,\n",
       "       0.94742269, 0.94627292, 0.93342912, 0.97690585, 0.95681107,\n",
       "       0.92262478, 0.96584128, 0.9486426 , 0.95724316, 0.92226592,\n",
       "       0.96074001, 0.97634357, 0.95931829, 0.95539218, 0.95917589,\n",
       "       0.95878875, 0.90590314, 0.95396484, 0.95733592, 0.91907018,\n",
       "       0.9557489 , 0.95874286, 0.97030256, 0.95961967, 0.91803671,\n",
       "       0.96956174, 0.9407162 , 0.96267689, 0.95528088, 0.9636106 ,\n",
       "       0.97283672, 0.9144128 , 0.94117121, 0.96724042, 0.9901726 ,\n",
       "       0.9794236 , 0.93515259, 0.97374966, 0.9464099 , 0.97313665,\n",
       "       0.93797867, 0.96307971, 0.96828505, 0.9691334 , 0.95211858,\n",
       "       0.94999896, 0.90571708, 0.9602779 , 0.94966485])"
      ]
     },
     "execution_count": 115,
     "metadata": {},
     "output_type": "execute_result"
    }
   ],
   "source": [
    "# look at similarity scores between user 1 and 100 other users\n",
    "model_KNNBasic.sim[1][1:100]"
   ]
  },
  {
   "cell_type": "code",
   "execution_count": 118,
   "id": "18a49a39-7133-4428-869c-d718333d38ed",
   "metadata": {},
   "outputs": [
    {
     "name": "stdout",
     "output_type": "stream",
     "text": [
      "[1.0, 1.0, 1.0, 1.0, 0.9954163242264943, 0.9932038011148655, 0.9931673187118063, 0.9928015930030369, 0.9925779735446323, 0.9921727569637341, 0.9920514138054163, 0.9918466774740248, 0.990928672430378, 0.990555317673597, 0.9903334353567688, 0.9902112160125253, 0.9901725976033663, 0.9897201797934381, 0.9877147365184785, 0.9876749705890591, 0.9876658701037219, 0.9872831817472322, 0.9872699029731293, 0.9872277834611144, 0.9870263204945258, 0.9865952324308038, 0.986127776752739, 0.9856474484755007, 0.9855467571685562, 0.9846761363548681]\n"
     ]
    }
   ],
   "source": [
    "# look at the similarity scores between user 1 and their 30 nearest neighbors\n",
    "neighbors = model_KNNBasic.get_neighbors(1, 30)\n",
    "\n",
    "neighbors_scores = [model_KNNBasic.sim[1][n] for n in neighbors]\n",
    "\n",
    "print(neighbors_scores)"
   ]
  },
  {
   "cell_type": "markdown",
   "id": "35870d3c-b022-4731-a567-f8b90d50cfce",
   "metadata": {},
   "source": [
    "User 1's ratings on any given movie will then be a weighted average of these 30 neighbors, with the similarity scores being the weights."
   ]
  },
  {
   "cell_type": "code",
   "execution_count": 159,
   "id": "5fcda612-9d10-49a5-93ea-3a456b4d0833",
   "metadata": {},
   "outputs": [
    {
     "data": {
      "text/html": [
       "<div>\n",
       "<style scoped>\n",
       "    .dataframe tbody tr th:only-of-type {\n",
       "        vertical-align: middle;\n",
       "    }\n",
       "\n",
       "    .dataframe tbody tr th {\n",
       "        vertical-align: top;\n",
       "    }\n",
       "\n",
       "    .dataframe thead th {\n",
       "        text-align: right;\n",
       "    }\n",
       "</style>\n",
       "<table border=\"1\" class=\"dataframe\">\n",
       "  <thead>\n",
       "    <tr style=\"text-align: right;\">\n",
       "      <th></th>\n",
       "      <th>movieId</th>\n",
       "      <th>title</th>\n",
       "      <th>genres</th>\n",
       "    </tr>\n",
       "  </thead>\n",
       "  <tbody>\n",
       "    <tr>\n",
       "      <th>2544</th>\n",
       "      <td>2628</td>\n",
       "      <td>Star Wars: Episode I - The Phantom Menace (1999)</td>\n",
       "      <td>Action|Adventure|Sci-Fi</td>\n",
       "    </tr>\n",
       "  </tbody>\n",
       "</table>\n",
       "</div>"
      ],
      "text/plain": [
       "      movieId                                             title  \\\n",
       "2544     2628  Star Wars: Episode I - The Phantom Menace (1999)   \n",
       "\n",
       "                       genres  \n",
       "2544  Action|Adventure|Sci-Fi  "
      ]
     },
     "execution_count": 159,
     "metadata": {},
     "output_type": "execute_result"
    }
   ],
   "source": [
    "# get movieId for Star Wars: The Phantom Menace\n",
    "df_movies[ df_movies['title'].str.contains(\"The Phantom Menace\")]"
   ]
  },
  {
   "cell_type": "code",
   "execution_count": 160,
   "id": "ed7a2c63-ca4f-4329-9706-71f733740f9f",
   "metadata": {},
   "outputs": [
    {
     "data": {
      "text/html": [
       "<div>\n",
       "<style scoped>\n",
       "    .dataframe tbody tr th:only-of-type {\n",
       "        vertical-align: middle;\n",
       "    }\n",
       "\n",
       "    .dataframe tbody tr th {\n",
       "        vertical-align: top;\n",
       "    }\n",
       "\n",
       "    .dataframe thead th {\n",
       "        text-align: right;\n",
       "    }\n",
       "</style>\n",
       "<table border=\"1\" class=\"dataframe\">\n",
       "  <thead>\n",
       "    <tr style=\"text-align: right;\">\n",
       "      <th></th>\n",
       "      <th>userId</th>\n",
       "      <th>movieId</th>\n",
       "      <th>rating</th>\n",
       "      <th>timestamp</th>\n",
       "    </tr>\n",
       "  </thead>\n",
       "  <tbody>\n",
       "    <tr>\n",
       "      <th>171</th>\n",
       "      <td>1</td>\n",
       "      <td>2628</td>\n",
       "      <td>4.0</td>\n",
       "      <td>964980523</td>\n",
       "    </tr>\n",
       "  </tbody>\n",
       "</table>\n",
       "</div>"
      ],
      "text/plain": [
       "     userId  movieId  rating  timestamp\n",
       "171       1     2628     4.0  964980523"
      ]
     },
     "execution_count": 160,
     "metadata": {},
     "output_type": "execute_result"
    }
   ],
   "source": [
    "# check of User 1 has a rating for Phantom Menace\n",
    "movie = 2628\n",
    "\n",
    "df_ratings[ (df_ratings[\"userId\"] == 1) & (df_ratings[\"movieId\"] == movie) ]"
   ]
  },
  {
   "cell_type": "code",
   "execution_count": 161,
   "id": "0af5b82a-24dd-481e-a4b3-647c8c5668f7",
   "metadata": {},
   "outputs": [
    {
     "data": {
      "text/plain": [
       "3.107142857142857"
      ]
     },
     "execution_count": 161,
     "metadata": {},
     "output_type": "execute_result"
    }
   ],
   "source": [
    "# check global average rating for Phantom Menace\n",
    "df_ratings[df_ratings[\"movieId\"] == movie][\"rating\"].mean()"
   ]
  },
  {
   "cell_type": "code",
   "execution_count": 162,
   "id": "6401c47c-96c1-4feb-a2a8-37785a85ed73",
   "metadata": {},
   "outputs": [
    {
     "name": "stdout",
     "output_type": "stream",
     "text": [
      "user: 1          item: 2628       r_ui = None   est = 3.42   {'actual_k': 30, 'was_impossible': False}\n"
     ]
    },
    {
     "data": {
      "text/plain": [
       "Prediction(uid=1, iid=2628, r_ui=None, est=3.4183670528659533, details={'actual_k': 30, 'was_impossible': False})"
      ]
     },
     "execution_count": 162,
     "metadata": {},
     "output_type": "execute_result"
    }
   ],
   "source": [
    "# predict User 1's rating for Phantom Menace\n",
    "model_KNNBasic.predict(uid = 1, iid = movie, clip = False, verbose = True)"
   ]
  },
  {
   "cell_type": "markdown",
   "id": "4df42507-7a5f-4fd5-aaa2-a824a8c93e27",
   "metadata": {},
   "source": [
    "We see that the global average for Star Wars: The Phantom Menace is 3.1 while User 1's rating of the Phantom Menace is 4.0; User 1 likes The Phantom Menace more so than the average population of users. The model predicts User 1's rating to be 3.4 (which is higher than the population average), so we see that the model is able to capture some of User 1's liking for the Phantom Menace!\n",
    "\n",
    "Unfortunately, the model is still off by about 0.6, which is a whole half-point in ratings. Checking User 1's distribution of ratings reveals a possible reason for why the model is off:"
   ]
  },
  {
   "cell_type": "code",
   "execution_count": 166,
   "id": "14223dac-077f-4b6a-9203-278c5a3a7715",
   "metadata": {},
   "outputs": [
    {
     "data": {
      "text/plain": [
       "array([[<AxesSubplot: title={'center': 'rating'}>]], dtype=object)"
      ]
     },
     "execution_count": 166,
     "metadata": {},
     "output_type": "execute_result"
    },
    {
     "data": {
      "image/png": "[encoded data removed]",
      "text/plain": [
       "<Figure size 640x480 with 1 Axes>"
      ]
     },
     "metadata": {},
     "output_type": "display_data"
    },
    {
     "data": {
      "image/png": "[encoded data removed]",
      "text/plain": [
       "<Figure size 640x480 with 1 Axes>"
      ]
     },
     "metadata": {},
     "output_type": "display_data"
    }
   ],
   "source": [
    "df_ratings[ df_ratings[\"userId\"] == 1 ].hist(column = \"rating\")\n",
    "\n",
    "df_ratings.hist(column = \"rating\")"
   ]
  },
  {
   "cell_type": "markdown",
   "id": "b3f366e6-7038-425f-8728-42b5f8d47f4a",
   "metadata": {},
   "source": [
    "User 1's ratings are heavily skewed to the right; this user has a natural tendency to give movies 4-5 stars. The histogram reveals that user 1 is likely grading on a more generous scale than the average population. Unfortunately, since our nearest neighbor model computes User 1's ratings based off others in the population, User 1's more generous grading scale is not accurately accounted for by the model. "
   ]
  },
  {
   "cell_type": "markdown",
   "id": "aec8e3b4-b935-4295-9978-39fe1d4dc204",
   "metadata": {},
   "source": [
    "## The Best Approach: $k$-Nearest Neighbors With Mean Centering"
   ]
  },
  {
   "cell_type": "markdown",
   "id": "425c16f8-26fa-47c1-848d-c72a93dce6da",
   "metadata": {},
   "source": [
    "As mentioned in the previous section, a basic $k$-nearest neighbors model isn't able to fully capture a user's natural grading scale. However, accounting for this piece of variance is actually really simple. We can keep the $k$-nearest neighbors approach of finding the set $N^k(U)$ of $k$-nearest neighbors to user U, but will slightly augment the prediction function:\n",
    "\n",
    "$$\n",
    "\\hat{r_{uj}} = \\mu_u + \\frac{\\sum_{v\\in N_j^k(U)} Sim(U,V) \\cdot (r_{vi} - \\mu_v)}{\\sum_{v\\in N_j^k(U)} Sim(U,V)}\n",
    "$$\n",
    "\n",
    "What we are doing here is changing the prediction function to predict the expected deviation above or below the User U's baseline mean. We the add this expected deviation on top of User U's baseline mean $\\mu_u$ to get the final predicted rating."
   ]
  },
  {
   "cell_type": "code",
   "execution_count": 167,
   "id": "bd058147-77b9-4e25-812b-6074ae007e8f",
   "metadata": {},
   "outputs": [],
   "source": [
    "# specify how we want to measure similarity\n",
    "sim_options = {\n",
    "    \"name\" : \"cosine\",   # specifies cosine similarity\n",
    "    \"min_support\" : 5,   # disqualifies any sim. scores based on less than 5 movies in common\n",
    "    \"user_based\" : True, # specifies user-user collab filtering\n",
    "}\n",
    "\n",
    "# train-test split; 75% to train and 25% to test\n",
    "trainset, testset = surprise.model_selection.train_test_split(dataset_df, test_size = 0.25)\n",
    "\n",
    "# instantiate k-nearest neighbors model\n",
    "model_KNNWithMeans = surprise.prediction_algorithms.knns.KNNWithMeans(\n",
    "    k = 30,      # use 30 nearest neighbors\n",
    "    min_k = 1,   # minimum number of neighbors necessary to make a prediction\n",
    "    sim_options = sim_options, \n",
    "    verbose = True\n",
    ")"
   ]
  },
  {
   "cell_type": "code",
   "execution_count": 168,
   "id": "2d6588cd-2200-4d57-bf2a-f2cb575f537b",
   "metadata": {},
   "outputs": [
    {
     "name": "stdout",
     "output_type": "stream",
     "text": [
      "Computing the cosine similarity matrix...\n",
      "Done computing similarity matrix.\n",
      "MSE: 0.8012\n"
     ]
    },
    {
     "data": {
      "text/plain": [
       "0.8011882362468549"
      ]
     },
     "execution_count": 168,
     "metadata": {},
     "output_type": "execute_result"
    }
   ],
   "source": [
    "# fit model; automatically computes similarity matrix first\n",
    "model_KNNWithMeans.fit(trainset)\n",
    "\n",
    "# evaluate model MSE on test set\n",
    "surprise.accuracy.mse(\n",
    "    model_KNNWithMeans.test(testset),\n",
    "    verbose = True\n",
    ")"
   ]
  },
  {
   "cell_type": "code",
   "execution_count": 169,
   "id": "a1e33ce0-bf6e-4c8b-8b18-452a0c18f74e",
   "metadata": {},
   "outputs": [
    {
     "name": "stdout",
     "output_type": "stream",
     "text": [
      "user: 1          item: 2628       r_ui = None   est = 4.12   {'actual_k': 30, 'was_impossible': False}\n"
     ]
    },
    {
     "data": {
      "text/plain": [
       "Prediction(uid=1, iid=2628, r_ui=None, est=4.124571719110307, details={'actual_k': 30, 'was_impossible': False})"
      ]
     },
     "execution_count": 169,
     "metadata": {},
     "output_type": "execute_result"
    }
   ],
   "source": [
    "# predict User 1's rating for Phantom Menace\n",
    "model_KNNWithMeans.predict(uid = 1, iid = movie, clip = False, verbose = True)"
   ]
  },
  {
   "cell_type": "markdown",
   "id": "d76969ce-3432-4dec-b8f6-0aa1f58ca147",
   "metadata": {},
   "source": [
    "Notice that this model predict User 1's rating for The Phantom Menace to be 4.1 which is very close to User 1's true rating of 4.0 because the model is now account for User 1's natural tendency to give out high ratings!"
   ]
  },
  {
   "cell_type": "code",
   "execution_count": null,
   "id": "ca100f2a-652f-4233-b212-dcd47712d072",
   "metadata": {},
   "outputs": [],
   "source": []
  },
  {
   "cell_type": "code",
   "execution_count": null,
   "id": "4ceba003-2e48-4fac-bd16-688245cab831",
   "metadata": {},
   "outputs": [],
   "source": []
  },
  {
   "cell_type": "code",
   "execution_count": null,
   "id": "f8ab0761-135f-4bca-b8d9-58c13782605d",
   "metadata": {},
   "outputs": [],
   "source": []
  },
  {
   "cell_type": "code",
   "execution_count": null,
   "id": "675e883a-1005-4a4e-97e7-0fd7e42cb014",
   "metadata": {},
   "outputs": [],
   "source": []
  }
 ],
 "metadata": {
  "kernelspec": {
   "display_name": "Python 3 (ipykernel)",
   "language": "python",
   "name": "python3"
  },
  "language_info": {
   "codemirror_mode": {
    "name": "ipython",
    "version": 3
   },
   "file_extension": ".py",
   "mimetype": "text/x-python",
   "name": "python",
   "nbconvert_exporter": "python",
   "pygments_lexer": "ipython3",
   "version": "3.9.12"
  }
 },
 "nbformat": 4,
 "nbformat_minor": 5
}
