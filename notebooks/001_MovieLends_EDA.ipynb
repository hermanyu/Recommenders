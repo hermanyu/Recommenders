{
 "cells": [
  {
   "cell_type": "code",
   "execution_count": 2,
   "id": "b0510a34-c22a-467d-bff8-4530feb8f673",
   "metadata": {},
   "outputs": [],
   "source": [
    "# set up paths to relevant directories\n",
    "ROOT <- rprojroot::find_rstudio_root_file()\n",
    "SRC_PATH <- paste0(ROOT, \"/source_code/R/\")\n",
    "\n",
    "setwd(SRC_PATH)\n",
    "\n",
    "# turn off warnings caused by package versioning\n",
    "options(warn = -1)\n",
    "\n",
    "# load libraries and functions\n",
    "source(\"get_data.R\")\n",
    "library(ggplot2)\n",
    "library(data.table) # used for faster performance on large data sets\n",
    "library(dtplyr)     # used for faster performance on large data sets\n",
    "library(dplyr)\n",
    "library(stringr)\n",
    "\n",
    "# turn warnings back on for safety\n",
    "options(warn = 0)\n",
    "\n",
    "# set default output plot size\n",
    "options(repr.plot.width = 8, repr.plot.height = 5, repr.plot.res = 200)"
   ]
  },
  {
   "cell_type": "code",
   "execution_count": 4,
   "id": "5de08263-654a-4f16-8367-f01c7d3692bd",
   "metadata": {},
   "outputs": [
    {
     "name": "stderr",
     "output_type": "stream",
     "text": [
      "\u001b[1mRows: \u001b[22m\u001b[34m25000095\u001b[39m \u001b[1mColumns: \u001b[22m\u001b[34m4\u001b[39m\n",
      "\u001b[36m──\u001b[39m \u001b[1mColumn specification\u001b[22m \u001b[36m────────────────────────────────────────────────────────\u001b[39m\n",
      "\u001b[1mDelimiter:\u001b[22m \",\"\n",
      "\u001b[32mdbl\u001b[39m (4): userId, movieId, rating, timestamp\n",
      "\n",
      "\u001b[36mℹ\u001b[39m Use `spec()` to retrieve the full column specification for this data.\n",
      "\u001b[36mℹ\u001b[39m Specify the column types or set `show_col_types = FALSE` to quiet this message.\n",
      "\u001b[1mRows: \u001b[22m\u001b[34m62423\u001b[39m \u001b[1mColumns: \u001b[22m\u001b[34m3\u001b[39m\n",
      "\u001b[36m──\u001b[39m \u001b[1mColumn specification\u001b[22m \u001b[36m────────────────────────────────────────────────────────\u001b[39m\n",
      "\u001b[1mDelimiter:\u001b[22m \",\"\n",
      "\u001b[31mchr\u001b[39m (2): title, genres\n",
      "\u001b[32mdbl\u001b[39m (1): movieId\n",
      "\n",
      "\u001b[36mℹ\u001b[39m Use `spec()` to retrieve the full column specification for this data.\n",
      "\u001b[36mℹ\u001b[39m Specify the column types or set `show_col_types = FALSE` to quiet this message.\n"
     ]
    }
   ],
   "source": [
    "df_ratings <- get_movielens_large()"
   ]
  },
  {
   "cell_type": "code",
   "execution_count": 9,
   "id": "14a8fc85-e609-4b74-91de-6ac78e5df7b5",
   "metadata": {},
   "outputs": [
    {
     "data": {
      "text/html": [
       "<table class=\"dataframe\">\n",
       "<caption>A tibble: 10 × 4</caption>\n",
       "<thead>\n",
       "\t<tr><th scope=col>userId</th><th scope=col>movieId</th><th scope=col>title</th><th scope=col>rating</th></tr>\n",
       "\t<tr><th scope=col>&lt;dbl&gt;</th><th scope=col>&lt;dbl&gt;</th><th scope=col>&lt;chr&gt;</th><th scope=col>&lt;dbl&gt;</th></tr>\n",
       "</thead>\n",
       "<tbody>\n",
       "\t<tr><td>1</td><td> 296</td><td>Pulp Fiction (1994)                             </td><td>5.0</td></tr>\n",
       "\t<tr><td>1</td><td> 306</td><td>Three Colors: Red (Trois couleurs: Rouge) (1994)</td><td>3.5</td></tr>\n",
       "\t<tr><td>1</td><td> 307</td><td>Three Colors: Blue (Trois couleurs: Bleu) (1993)</td><td>5.0</td></tr>\n",
       "\t<tr><td>1</td><td> 665</td><td>Underground (1995)                              </td><td>5.0</td></tr>\n",
       "\t<tr><td>1</td><td> 899</td><td>Singin' in the Rain (1952)                      </td><td>3.5</td></tr>\n",
       "\t<tr><td>1</td><td>1088</td><td>Dirty Dancing (1987)                            </td><td>4.0</td></tr>\n",
       "\t<tr><td>1</td><td>1175</td><td>Delicatessen (1991)                             </td><td>3.5</td></tr>\n",
       "\t<tr><td>1</td><td>1217</td><td>Ran (1985)                                      </td><td>3.5</td></tr>\n",
       "\t<tr><td>1</td><td>1237</td><td>Seventh Seal, The (Sjunde inseglet, Det) (1957) </td><td>5.0</td></tr>\n",
       "\t<tr><td>1</td><td>1250</td><td>Bridge on the River Kwai, The (1957)            </td><td>4.0</td></tr>\n",
       "</tbody>\n",
       "</table>\n"
      ],
      "text/latex": [
       "A tibble: 10 × 4\n",
       "\\begin{tabular}{llll}\n",
       " userId & movieId & title & rating\\\\\n",
       " <dbl> & <dbl> & <chr> & <dbl>\\\\\n",
       "\\hline\n",
       "\t 1 &  296 & Pulp Fiction (1994)                              & 5.0\\\\\n",
       "\t 1 &  306 & Three Colors: Red (Trois couleurs: Rouge) (1994) & 3.5\\\\\n",
       "\t 1 &  307 & Three Colors: Blue (Trois couleurs: Bleu) (1993) & 5.0\\\\\n",
       "\t 1 &  665 & Underground (1995)                               & 5.0\\\\\n",
       "\t 1 &  899 & Singin' in the Rain (1952)                       & 3.5\\\\\n",
       "\t 1 & 1088 & Dirty Dancing (1987)                             & 4.0\\\\\n",
       "\t 1 & 1175 & Delicatessen (1991)                              & 3.5\\\\\n",
       "\t 1 & 1217 & Ran (1985)                                       & 3.5\\\\\n",
       "\t 1 & 1237 & Seventh Seal, The (Sjunde inseglet, Det) (1957)  & 5.0\\\\\n",
       "\t 1 & 1250 & Bridge on the River Kwai, The (1957)             & 4.0\\\\\n",
       "\\end{tabular}\n"
      ],
      "text/markdown": [
       "\n",
       "A tibble: 10 × 4\n",
       "\n",
       "| userId &lt;dbl&gt; | movieId &lt;dbl&gt; | title &lt;chr&gt; | rating &lt;dbl&gt; |\n",
       "|---|---|---|---|\n",
       "| 1 |  296 | Pulp Fiction (1994)                              | 5.0 |\n",
       "| 1 |  306 | Three Colors: Red (Trois couleurs: Rouge) (1994) | 3.5 |\n",
       "| 1 |  307 | Three Colors: Blue (Trois couleurs: Bleu) (1993) | 5.0 |\n",
       "| 1 |  665 | Underground (1995)                               | 5.0 |\n",
       "| 1 |  899 | Singin' in the Rain (1952)                       | 3.5 |\n",
       "| 1 | 1088 | Dirty Dancing (1987)                             | 4.0 |\n",
       "| 1 | 1175 | Delicatessen (1991)                              | 3.5 |\n",
       "| 1 | 1217 | Ran (1985)                                       | 3.5 |\n",
       "| 1 | 1237 | Seventh Seal, The (Sjunde inseglet, Det) (1957)  | 5.0 |\n",
       "| 1 | 1250 | Bridge on the River Kwai, The (1957)             | 4.0 |\n",
       "\n"
      ],
      "text/plain": [
       "   userId movieId title                                            rating\n",
       "1  1       296    Pulp Fiction (1994)                              5.0   \n",
       "2  1       306    Three Colors: Red (Trois couleurs: Rouge) (1994) 3.5   \n",
       "3  1       307    Three Colors: Blue (Trois couleurs: Bleu) (1993) 5.0   \n",
       "4  1       665    Underground (1995)                               5.0   \n",
       "5  1       899    Singin' in the Rain (1952)                       3.5   \n",
       "6  1      1088    Dirty Dancing (1987)                             4.0   \n",
       "7  1      1175    Delicatessen (1991)                              3.5   \n",
       "8  1      1217    Ran (1985)                                       3.5   \n",
       "9  1      1237    Seventh Seal, The (Sjunde inseglet, Det) (1957)  5.0   \n",
       "10 1      1250    Bridge on the River Kwai, The (1957)             4.0   "
      ]
     },
     "metadata": {},
     "output_type": "display_data"
    }
   ],
   "source": [
    "df_ratings %>% head(10)"
   ]
  },
  {
   "cell_type": "code",
   "execution_count": 10,
   "id": "d7a6cc6c-efc6-4a26-bdab-6609e546750d",
   "metadata": {},
   "outputs": [
    {
     "data": {
      "text/html": [
       "<style>\n",
       ".list-inline {list-style: none; margin:0; padding: 0}\n",
       ".list-inline>li {display: inline-block}\n",
       ".list-inline>li:not(:last-child)::after {content: \"\\00b7\"; padding: 0 .5ex}\n",
       "</style>\n",
       "<ol class=list-inline><li>25000095</li><li>4</li></ol>\n"
      ],
      "text/latex": [
       "\\begin{enumerate*}\n",
       "\\item 25000095\n",
       "\\item 4\n",
       "\\end{enumerate*}\n"
      ],
      "text/markdown": [
       "1. 25000095\n",
       "2. 4\n",
       "\n",
       "\n"
      ],
      "text/plain": [
       "[1] 25000095        4"
      ]
     },
     "metadata": {},
     "output_type": "display_data"
    }
   ],
   "source": [
    "df_ratings %>% dim()"
   ]
  },
  {
   "cell_type": "markdown",
   "id": "3d15338a-d8be-410b-a6e5-48735cf5f2db",
   "metadata": {},
   "source": [
    "# EDA"
   ]
  },
  {
   "cell_type": "markdown",
   "id": "cfd21bb3-5d0b-443f-a1ef-4066d61cbb17",
   "metadata": {},
   "source": [
    "## Number of Ratings"
   ]
  },
  {
   "cell_type": "code",
   "execution_count": 11,
   "id": "6acc1fe2-1bd5-4f11-aa0a-180b4681cca8",
   "metadata": {},
   "outputs": [
    {
     "data": {
      "text/html": [
       "<table class=\"dataframe\">\n",
       "<caption>A tibble: 20 × 3</caption>\n",
       "<thead>\n",
       "\t<tr><th scope=col>title</th><th scope=col>num_of_ratings</th><th scope=col>avg_rating</th></tr>\n",
       "\t<tr><th scope=col>&lt;chr&gt;</th><th scope=col>&lt;int&gt;</th><th scope=col>&lt;dbl&gt;</th></tr>\n",
       "</thead>\n",
       "<tbody>\n",
       "\t<tr><td>Forrest Gump (1994)                                                           </td><td>81491</td><td>4.048011</td></tr>\n",
       "\t<tr><td>Shawshank Redemption, The (1994)                                              </td><td>81482</td><td>4.413576</td></tr>\n",
       "\t<tr><td>Pulp Fiction (1994)                                                           </td><td>79672</td><td>4.188912</td></tr>\n",
       "\t<tr><td>Silence of the Lambs, The (1991)                                              </td><td>74127</td><td>4.151342</td></tr>\n",
       "\t<tr><td>Matrix, The (1999)                                                            </td><td>72674</td><td>4.154099</td></tr>\n",
       "\t<tr><td>Star Wars: Episode IV - A New Hope (1977)                                     </td><td>68717</td><td>4.120189</td></tr>\n",
       "\t<tr><td>Jurassic Park (1993)                                                          </td><td>64144</td><td>3.679175</td></tr>\n",
       "\t<tr><td>Schindler's List (1993)                                                       </td><td>60411</td><td>4.247579</td></tr>\n",
       "\t<tr><td>Braveheart (1995)                                                             </td><td>59184</td><td>4.002273</td></tr>\n",
       "\t<tr><td>Fight Club (1999)                                                             </td><td>58773</td><td>4.228311</td></tr>\n",
       "\t<tr><td>Terminator 2: Judgment Day (1991)                                             </td><td>57379</td><td>3.946374</td></tr>\n",
       "\t<tr><td>Star Wars: Episode V - The Empire Strikes Back (1980)                         </td><td>57361</td><td>4.144122</td></tr>\n",
       "\t<tr><td>Toy Story (1995)                                                              </td><td>57309</td><td>3.893708</td></tr>\n",
       "\t<tr><td>Lord of the Rings: The Fellowship of the Ring, The (2001)                     </td><td>55736</td><td>4.091189</td></tr>\n",
       "\t<tr><td>Usual Suspects, The (1995)                                                    </td><td>55366</td><td>4.284353</td></tr>\n",
       "\t<tr><td>Star Wars: Episode VI - Return of the Jedi (1983)                             </td><td>54917</td><td>3.996513</td></tr>\n",
       "\t<tr><td>Raiders of the Lost Ark (Indiana Jones and the Raiders of the Lost Ark) (1981)</td><td>54675</td><td>4.123923</td></tr>\n",
       "\t<tr><td>American Beauty (1999)                                                        </td><td>53689</td><td>4.107340</td></tr>\n",
       "\t<tr><td>Godfather, The (1972)                                                         </td><td>52498</td><td>4.324336</td></tr>\n",
       "\t<tr><td>Lord of the Rings: The Two Towers, The (2002)                                 </td><td>51138</td><td>4.068051</td></tr>\n",
       "</tbody>\n",
       "</table>\n"
      ],
      "text/latex": [
       "A tibble: 20 × 3\n",
       "\\begin{tabular}{lll}\n",
       " title & num\\_of\\_ratings & avg\\_rating\\\\\n",
       " <chr> & <int> & <dbl>\\\\\n",
       "\\hline\n",
       "\t Forrest Gump (1994)                                                            & 81491 & 4.048011\\\\\n",
       "\t Shawshank Redemption, The (1994)                                               & 81482 & 4.413576\\\\\n",
       "\t Pulp Fiction (1994)                                                            & 79672 & 4.188912\\\\\n",
       "\t Silence of the Lambs, The (1991)                                               & 74127 & 4.151342\\\\\n",
       "\t Matrix, The (1999)                                                             & 72674 & 4.154099\\\\\n",
       "\t Star Wars: Episode IV - A New Hope (1977)                                      & 68717 & 4.120189\\\\\n",
       "\t Jurassic Park (1993)                                                           & 64144 & 3.679175\\\\\n",
       "\t Schindler's List (1993)                                                        & 60411 & 4.247579\\\\\n",
       "\t Braveheart (1995)                                                              & 59184 & 4.002273\\\\\n",
       "\t Fight Club (1999)                                                              & 58773 & 4.228311\\\\\n",
       "\t Terminator 2: Judgment Day (1991)                                              & 57379 & 3.946374\\\\\n",
       "\t Star Wars: Episode V - The Empire Strikes Back (1980)                          & 57361 & 4.144122\\\\\n",
       "\t Toy Story (1995)                                                               & 57309 & 3.893708\\\\\n",
       "\t Lord of the Rings: The Fellowship of the Ring, The (2001)                      & 55736 & 4.091189\\\\\n",
       "\t Usual Suspects, The (1995)                                                     & 55366 & 4.284353\\\\\n",
       "\t Star Wars: Episode VI - Return of the Jedi (1983)                              & 54917 & 3.996513\\\\\n",
       "\t Raiders of the Lost Ark (Indiana Jones and the Raiders of the Lost Ark) (1981) & 54675 & 4.123923\\\\\n",
       "\t American Beauty (1999)                                                         & 53689 & 4.107340\\\\\n",
       "\t Godfather, The (1972)                                                          & 52498 & 4.324336\\\\\n",
       "\t Lord of the Rings: The Two Towers, The (2002)                                  & 51138 & 4.068051\\\\\n",
       "\\end{tabular}\n"
      ],
      "text/markdown": [
       "\n",
       "A tibble: 20 × 3\n",
       "\n",
       "| title &lt;chr&gt; | num_of_ratings &lt;int&gt; | avg_rating &lt;dbl&gt; |\n",
       "|---|---|---|\n",
       "| Forrest Gump (1994)                                                            | 81491 | 4.048011 |\n",
       "| Shawshank Redemption, The (1994)                                               | 81482 | 4.413576 |\n",
       "| Pulp Fiction (1994)                                                            | 79672 | 4.188912 |\n",
       "| Silence of the Lambs, The (1991)                                               | 74127 | 4.151342 |\n",
       "| Matrix, The (1999)                                                             | 72674 | 4.154099 |\n",
       "| Star Wars: Episode IV - A New Hope (1977)                                      | 68717 | 4.120189 |\n",
       "| Jurassic Park (1993)                                                           | 64144 | 3.679175 |\n",
       "| Schindler's List (1993)                                                        | 60411 | 4.247579 |\n",
       "| Braveheart (1995)                                                              | 59184 | 4.002273 |\n",
       "| Fight Club (1999)                                                              | 58773 | 4.228311 |\n",
       "| Terminator 2: Judgment Day (1991)                                              | 57379 | 3.946374 |\n",
       "| Star Wars: Episode V - The Empire Strikes Back (1980)                          | 57361 | 4.144122 |\n",
       "| Toy Story (1995)                                                               | 57309 | 3.893708 |\n",
       "| Lord of the Rings: The Fellowship of the Ring, The (2001)                      | 55736 | 4.091189 |\n",
       "| Usual Suspects, The (1995)                                                     | 55366 | 4.284353 |\n",
       "| Star Wars: Episode VI - Return of the Jedi (1983)                              | 54917 | 3.996513 |\n",
       "| Raiders of the Lost Ark (Indiana Jones and the Raiders of the Lost Ark) (1981) | 54675 | 4.123923 |\n",
       "| American Beauty (1999)                                                         | 53689 | 4.107340 |\n",
       "| Godfather, The (1972)                                                          | 52498 | 4.324336 |\n",
       "| Lord of the Rings: The Two Towers, The (2002)                                  | 51138 | 4.068051 |\n",
       "\n"
      ],
      "text/plain": [
       "   title                                                                         \n",
       "1  Forrest Gump (1994)                                                           \n",
       "2  Shawshank Redemption, The (1994)                                              \n",
       "3  Pulp Fiction (1994)                                                           \n",
       "4  Silence of the Lambs, The (1991)                                              \n",
       "5  Matrix, The (1999)                                                            \n",
       "6  Star Wars: Episode IV - A New Hope (1977)                                     \n",
       "7  Jurassic Park (1993)                                                          \n",
       "8  Schindler's List (1993)                                                       \n",
       "9  Braveheart (1995)                                                             \n",
       "10 Fight Club (1999)                                                             \n",
       "11 Terminator 2: Judgment Day (1991)                                             \n",
       "12 Star Wars: Episode V - The Empire Strikes Back (1980)                         \n",
       "13 Toy Story (1995)                                                              \n",
       "14 Lord of the Rings: The Fellowship of the Ring, The (2001)                     \n",
       "15 Usual Suspects, The (1995)                                                    \n",
       "16 Star Wars: Episode VI - Return of the Jedi (1983)                             \n",
       "17 Raiders of the Lost Ark (Indiana Jones and the Raiders of the Lost Ark) (1981)\n",
       "18 American Beauty (1999)                                                        \n",
       "19 Godfather, The (1972)                                                         \n",
       "20 Lord of the Rings: The Two Towers, The (2002)                                 \n",
       "   num_of_ratings avg_rating\n",
       "1  81491          4.048011  \n",
       "2  81482          4.413576  \n",
       "3  79672          4.188912  \n",
       "4  74127          4.151342  \n",
       "5  72674          4.154099  \n",
       "6  68717          4.120189  \n",
       "7  64144          3.679175  \n",
       "8  60411          4.247579  \n",
       "9  59184          4.002273  \n",
       "10 58773          4.228311  \n",
       "11 57379          3.946374  \n",
       "12 57361          4.144122  \n",
       "13 57309          3.893708  \n",
       "14 55736          4.091189  \n",
       "15 55366          4.284353  \n",
       "16 54917          3.996513  \n",
       "17 54675          4.123923  \n",
       "18 53689          4.107340  \n",
       "19 52498          4.324336  \n",
       "20 51138          4.068051  "
      ]
     },
     "metadata": {},
     "output_type": "display_data"
    }
   ],
   "source": [
    "df_ratings %>% \n",
    "  lazy_dt() %>% # coerce to lazy_dt() to use dtplyr\n",
    "  group_by(title) %>% \n",
    "  summarise(\n",
    "    num_of_ratings = n(),\n",
    "    avg_rating = mean(rating, na.rm = T)\n",
    "  ) %>% \n",
    "  arrange(desc(num_of_ratings)) %>% \n",
    "  head(20) %>% \n",
    "  as_tibble() # reformat back as tibble for readability"
   ]
  },
  {
   "cell_type": "markdown",
   "id": "30854766-ea62-4f80-9bd5-97cdc1013547",
   "metadata": {},
   "source": [
    "Forrest Gump, Shawshank Redemption, and Pulp Fiction are the most rated movies. Interestingly, all 3 moveis came out in 1994. In fact:\n",
    "\n",
    "* 13 of the 20 most rated movies were all released in the 90's. \n",
    "* Of the 6 movies not released in the 90's, 3 of them were George Lucas films: New Hope, Empire Strikes Back, and Indiana Jones. \n",
    "* Lord of the Rings 1 and 2 both appear and represent the only movies from the 2000's.\n",
    "* Rounding out the top 20 is The Godfather.\n",
    "\n",
    "Cursory inspection shows that the movies with a large number of ratings are all generally regarded as masterpiece films.\n",
    "\n",
    "* Forrest Gump won the Oscar for Best Picture at the 67th Academy Awards. Tom Hanks and Robert Zemeckis won Best Actor and Best Director for their work in this film, respectively.\n",
    "* The Shawshank Redemption is the second most rated film on the list and was nominated for Best Picture in the 67th Academy Awards (ultimately losing to Forrest Gump). However, The Shawshank Redemption is currently the highest rated film on IMDB.\n",
    "* Pulp Fiction won Best Original Screenplay for the 67th Academy Awards and enjoys a rampant cult following to this day."
   ]
  },
  {
   "cell_type": "code",
   "execution_count": 31,
   "id": "613926ed-735b-4203-81c6-631f83082ff9",
   "metadata": {},
   "outputs": [
    {
     "data": {
      "image/png": "[encoded data removed]",
      "text/plain": [
       "plot without title"
      ]
     },
     "metadata": {
      "image/png": {
       "height": 500,
       "width": 800
      }
     },
     "output_type": "display_data"
    }
   ],
   "source": [
    "df_ratings %>% \n",
    "  lazy_dt() %>% \n",
    "  group_by(title) %>% \n",
    "  summarise(\n",
    "    num_of_ratings = n(),\n",
    "    avg_rating = mean(rating, na.rm = T)\n",
    "  ) %>% \n",
    "  as_tibble() %>% # need to coerce back to tibble for ggplot\n",
    "  ggplot(mapping = aes(num_of_ratings, avg_rating)) + \n",
    "  geom_point(size = 0.75) "
   ]
  },
  {
   "cell_type": "markdown",
   "id": "126afaa6-e69b-4b6a-83ff-4da1323f8b97",
   "metadata": {},
   "source": [
    "We notice that the variance of average rating tends to decrease as number of ratings increases. One hypothesis to explain this phenomenon might be that popular movies generally tend to also be good movies. Movies with a fewer number of ratings tend to be a mix of bad movies and niche movies, leading a the wider discrepancy in ratings.\n",
    "\n",
    "* This implies we must be very cognizant of selection bias when it comes to ratings data."
   ]
  },
  {
   "cell_type": "markdown",
   "id": "fc556920-3ac0-4471-8f72-1243ada4dc63",
   "metadata": {},
   "source": [
    "## Movies Through The Years"
   ]
  },
  {
   "cell_type": "code",
   "execution_count": 5,
   "id": "fbaf4259-f6fc-4009-a9bb-7cbc7ef05905",
   "metadata": {},
   "outputs": [
    {
     "name": "stderr",
     "output_type": "stream",
     "text": [
      "Warning message in eval(jsub, SDenv, parent.frame()):\n",
      "\"NAs introduced by coercion\"\n"
     ]
    }
   ],
   "source": [
    "df_ratings <- df_ratings %>% \n",
    "  lazy_dt() %>% \n",
    "  mutate(     # 2 possible extraction methods; we opt for simpler one\n",
    "    year = as.numeric(substr(title, nchar(title)-4, nchar(title)-1))\n",
    "    # year = as.numeric(str_extract(title, \"(?<=\\\\()[0-9]+(?=\\\\))\"))\n",
    "  ) %>% \n",
    "  as_tibble()"
   ]
  },
  {
   "cell_type": "markdown",
   "id": "902b99c1-71be-4293-8e91-90114a9aa87a",
   "metadata": {},
   "source": [
    "* Note: the above code cell throws a warning message that `NA` values were introduced in the Year extraction. This likely indicates that the movie titles do not all follow the same formatting."
   ]
  },
  {
   "cell_type": "code",
   "execution_count": 33,
   "id": "3b53c9fe-8e13-4510-b43d-aa402ad32a97",
   "metadata": {},
   "outputs": [
    {
     "data": {
      "text/html": [
       "<table class=\"dataframe\">\n",
       "<caption>A tibble: 10 × 2</caption>\n",
       "<thead>\n",
       "\t<tr><th scope=col>year</th><th scope=col>num_of_movies</th></tr>\n",
       "\t<tr><th scope=col>&lt;dbl&gt;</th><th scope=col>&lt;int&gt;</th></tr>\n",
       "</thead>\n",
       "<tbody>\n",
       "\t<tr><td>  NA</td><td>370</td></tr>\n",
       "\t<tr><td>   6</td><td>  1</td></tr>\n",
       "\t<tr><td> 201</td><td>  2</td></tr>\n",
       "\t<tr><td>1874</td><td>  1</td></tr>\n",
       "\t<tr><td>1878</td><td>  1</td></tr>\n",
       "\t<tr><td>1880</td><td>  1</td></tr>\n",
       "\t<tr><td>1883</td><td>  1</td></tr>\n",
       "\t<tr><td>1887</td><td>  1</td></tr>\n",
       "\t<tr><td>1888</td><td>  4</td></tr>\n",
       "\t<tr><td>1890</td><td>  5</td></tr>\n",
       "</tbody>\n",
       "</table>\n"
      ],
      "text/latex": [
       "A tibble: 10 × 2\n",
       "\\begin{tabular}{ll}\n",
       " year & num\\_of\\_movies\\\\\n",
       " <dbl> & <int>\\\\\n",
       "\\hline\n",
       "\t   NA & 370\\\\\n",
       "\t    6 &   1\\\\\n",
       "\t  201 &   2\\\\\n",
       "\t 1874 &   1\\\\\n",
       "\t 1878 &   1\\\\\n",
       "\t 1880 &   1\\\\\n",
       "\t 1883 &   1\\\\\n",
       "\t 1887 &   1\\\\\n",
       "\t 1888 &   4\\\\\n",
       "\t 1890 &   5\\\\\n",
       "\\end{tabular}\n"
      ],
      "text/markdown": [
       "\n",
       "A tibble: 10 × 2\n",
       "\n",
       "| year &lt;dbl&gt; | num_of_movies &lt;int&gt; |\n",
       "|---|---|\n",
       "|   NA | 370 |\n",
       "|    6 |   1 |\n",
       "|  201 |   2 |\n",
       "| 1874 |   1 |\n",
       "| 1878 |   1 |\n",
       "| 1880 |   1 |\n",
       "| 1883 |   1 |\n",
       "| 1887 |   1 |\n",
       "| 1888 |   4 |\n",
       "| 1890 |   5 |\n",
       "\n"
      ],
      "text/plain": [
       "   year num_of_movies\n",
       "1    NA 370          \n",
       "2     6   1          \n",
       "3   201   2          \n",
       "4  1874   1          \n",
       "5  1878   1          \n",
       "6  1880   1          \n",
       "7  1883   1          \n",
       "8  1887   1          \n",
       "9  1888   4          \n",
       "10 1890   5          "
      ]
     },
     "metadata": {},
     "output_type": "display_data"
    }
   ],
   "source": [
    "df_ratings %>% \n",
    "  lazy_dt() %>% \n",
    "  select(year, title) %>% \n",
    "  distinct() %>% \n",
    "  group_by(year) %>% \n",
    "  summarise(num_of_movies = n()) %>% \n",
    "  as_tibble() %>% \n",
    "  head(10)"
   ]
  },
  {
   "cell_type": "markdown",
   "id": "e6dc549f-8912-4fc8-8145-070b04023ecd",
   "metadata": {},
   "source": [
    "* We see 370 movie titles resulted in failed extractions, while 3 movie titles resulted in non-sensical years."
   ]
  },
  {
   "cell_type": "code",
   "execution_count": 34,
   "id": "067395d4-1dfc-4e3b-9403-a52079759a70",
   "metadata": {},
   "outputs": [
    {
     "data": {
      "text/html": [
       "<table class=\"dataframe\">\n",
       "<caption>A tibble: 6 × 5</caption>\n",
       "<thead>\n",
       "\t<tr><th scope=col>userId</th><th scope=col>movieId</th><th scope=col>title</th><th scope=col>rating</th><th scope=col>year</th></tr>\n",
       "\t<tr><th scope=col>&lt;dbl&gt;</th><th scope=col>&lt;dbl&gt;</th><th scope=col>&lt;chr&gt;</th><th scope=col>&lt;dbl&gt;</th><th scope=col>&lt;dbl&gt;</th></tr>\n",
       "</thead>\n",
       "<tbody>\n",
       "\t<tr><td> 24869</td><td>172451</td><td><span style=white-space:pre-wrap>Irwin &amp; Fran 2013             </span></td><td>0.5</td><td>201</td></tr>\n",
       "\t<tr><td> 43201</td><td>175335</td><td>The Garden of Afflictions 2017</td><td>0.5</td><td>201</td></tr>\n",
       "\t<tr><td> 72315</td><td>159257</td><td>6A                            </td><td>3.0</td><td>  6</td></tr>\n",
       "\t<tr><td> 72315</td><td>175335</td><td>The Garden of Afflictions 2017</td><td>3.5</td><td>201</td></tr>\n",
       "\t<tr><td> 84107</td><td>175335</td><td>The Garden of Afflictions 2017</td><td>1.5</td><td>201</td></tr>\n",
       "\t<tr><td>134045</td><td>159257</td><td>6A                            </td><td>3.0</td><td>  6</td></tr>\n",
       "</tbody>\n",
       "</table>\n"
      ],
      "text/latex": [
       "A tibble: 6 × 5\n",
       "\\begin{tabular}{lllll}\n",
       " userId & movieId & title & rating & year\\\\\n",
       " <dbl> & <dbl> & <chr> & <dbl> & <dbl>\\\\\n",
       "\\hline\n",
       "\t  24869 & 172451 & Irwin \\& Fran 2013              & 0.5 & 201\\\\\n",
       "\t  43201 & 175335 & The Garden of Afflictions 2017 & 0.5 & 201\\\\\n",
       "\t  72315 & 159257 & 6A                             & 3.0 &   6\\\\\n",
       "\t  72315 & 175335 & The Garden of Afflictions 2017 & 3.5 & 201\\\\\n",
       "\t  84107 & 175335 & The Garden of Afflictions 2017 & 1.5 & 201\\\\\n",
       "\t 134045 & 159257 & 6A                             & 3.0 &   6\\\\\n",
       "\\end{tabular}\n"
      ],
      "text/markdown": [
       "\n",
       "A tibble: 6 × 5\n",
       "\n",
       "| userId &lt;dbl&gt; | movieId &lt;dbl&gt; | title &lt;chr&gt; | rating &lt;dbl&gt; | year &lt;dbl&gt; |\n",
       "|---|---|---|---|---|\n",
       "|  24869 | 172451 | Irwin &amp; Fran 2013              | 0.5 | 201 |\n",
       "|  43201 | 175335 | The Garden of Afflictions 2017 | 0.5 | 201 |\n",
       "|  72315 | 159257 | 6A                             | 3.0 |   6 |\n",
       "|  72315 | 175335 | The Garden of Afflictions 2017 | 3.5 | 201 |\n",
       "|  84107 | 175335 | The Garden of Afflictions 2017 | 1.5 | 201 |\n",
       "| 134045 | 159257 | 6A                             | 3.0 |   6 |\n",
       "\n"
      ],
      "text/plain": [
       "  userId movieId title                          rating year\n",
       "1  24869 172451  Irwin & Fran 2013              0.5    201 \n",
       "2  43201 175335  The Garden of Afflictions 2017 0.5    201 \n",
       "3  72315 159257  6A                             3.0      6 \n",
       "4  72315 175335  The Garden of Afflictions 2017 3.5    201 \n",
       "5  84107 175335  The Garden of Afflictions 2017 1.5    201 \n",
       "6 134045 159257  6A                             3.0      6 "
      ]
     },
     "metadata": {},
     "output_type": "display_data"
    }
   ],
   "source": [
    "# view movie titles with non-sensical years\n",
    "df_ratings %>% \n",
    "  lazy_dt() %>% \n",
    "  filter(year %in% c(6, 201)) %>% \n",
    "  as_tibble()"
   ]
  },
  {
   "cell_type": "code",
   "execution_count": 6,
   "id": "f23f9afd-02e2-4d8e-8200-53a47c8e2121",
   "metadata": {},
   "outputs": [
    {
     "data": {
      "text/html": [
       "<table class=\"dataframe\">\n",
       "<caption>A tibble: 10 × 3</caption>\n",
       "<thead>\n",
       "\t<tr><th scope=col>title</th><th scope=col>num_of_ratings</th><th scope=col>avg_rating</th></tr>\n",
       "\t<tr><th scope=col>&lt;chr&gt;</th><th scope=col>&lt;int&gt;</th><th scope=col>&lt;dbl&gt;</th></tr>\n",
       "</thead>\n",
       "<tbody>\n",
       "\t<tr><td>Ready Player One           </td><td>2441</td><td>3.574355</td></tr>\n",
       "\t<tr><td>Moonlight                  </td><td>2123</td><td>3.808290</td></tr>\n",
       "\t<tr><td>Nocturnal Animals          </td><td>1716</td><td>3.746212</td></tr>\n",
       "\t<tr><td>The Favourite              </td><td>1296</td><td>3.829861</td></tr>\n",
       "\t<tr><td>Paterson                   </td><td> 571</td><td>3.663748</td></tr>\n",
       "\t<tr><td>Black Mirror               </td><td> 456</td><td>4.256579</td></tr>\n",
       "\t<tr><td>Cosmos                     </td><td> 277</td><td>4.326715</td></tr>\n",
       "\t<tr><td>The OA                     </td><td> 226</td><td>3.581858</td></tr>\n",
       "\t<tr><td>Cosmos: A Spacetime Odissey</td><td> 191</td><td>4.188482</td></tr>\n",
       "\t<tr><td>13 reasons why             </td><td> 190</td><td>3.700000</td></tr>\n",
       "</tbody>\n",
       "</table>\n"
      ],
      "text/latex": [
       "A tibble: 10 × 3\n",
       "\\begin{tabular}{lll}\n",
       " title & num\\_of\\_ratings & avg\\_rating\\\\\n",
       " <chr> & <int> & <dbl>\\\\\n",
       "\\hline\n",
       "\t Ready Player One            & 2441 & 3.574355\\\\\n",
       "\t Moonlight                   & 2123 & 3.808290\\\\\n",
       "\t Nocturnal Animals           & 1716 & 3.746212\\\\\n",
       "\t The Favourite               & 1296 & 3.829861\\\\\n",
       "\t Paterson                    &  571 & 3.663748\\\\\n",
       "\t Black Mirror                &  456 & 4.256579\\\\\n",
       "\t Cosmos                      &  277 & 4.326715\\\\\n",
       "\t The OA                      &  226 & 3.581858\\\\\n",
       "\t Cosmos: A Spacetime Odissey &  191 & 4.188482\\\\\n",
       "\t 13 reasons why              &  190 & 3.700000\\\\\n",
       "\\end{tabular}\n"
      ],
      "text/markdown": [
       "\n",
       "A tibble: 10 × 3\n",
       "\n",
       "| title &lt;chr&gt; | num_of_ratings &lt;int&gt; | avg_rating &lt;dbl&gt; |\n",
       "|---|---|---|\n",
       "| Ready Player One            | 2441 | 3.574355 |\n",
       "| Moonlight                   | 2123 | 3.808290 |\n",
       "| Nocturnal Animals           | 1716 | 3.746212 |\n",
       "| The Favourite               | 1296 | 3.829861 |\n",
       "| Paterson                    |  571 | 3.663748 |\n",
       "| Black Mirror                |  456 | 4.256579 |\n",
       "| Cosmos                      |  277 | 4.326715 |\n",
       "| The OA                      |  226 | 3.581858 |\n",
       "| Cosmos: A Spacetime Odissey |  191 | 4.188482 |\n",
       "| 13 reasons why              |  190 | 3.700000 |\n",
       "\n"
      ],
      "text/plain": [
       "   title                       num_of_ratings avg_rating\n",
       "1  Ready Player One            2441           3.574355  \n",
       "2  Moonlight                   2123           3.808290  \n",
       "3  Nocturnal Animals           1716           3.746212  \n",
       "4  The Favourite               1296           3.829861  \n",
       "5  Paterson                     571           3.663748  \n",
       "6  Black Mirror                 456           4.256579  \n",
       "7  Cosmos                       277           4.326715  \n",
       "8  The OA                       226           3.581858  \n",
       "9  Cosmos: A Spacetime Odissey  191           4.188482  \n",
       "10 13 reasons why               190           3.700000  "
      ]
     },
     "metadata": {},
     "output_type": "display_data"
    }
   ],
   "source": [
    "# view movie titles with failed year extraction\n",
    "df_ratings %>% \n",
    "  lazy_dt() %>% \n",
    "  filter(is.na(year)) %>% \n",
    "  group_by(title) %>% \n",
    "  summarize(\n",
    "    num_of_ratings = n(),\n",
    "    avg_rating = mean(rating, na.rm = T)\n",
    "  ) %>% \n",
    "  arrange(desc(num_of_ratings)) %>% \n",
    "  as_tibble() %>% head(10)"
   ]
  },
  {
   "cell_type": "markdown",
   "id": "7d57a626-2307-4274-b837-62aff3e95c26",
   "metadata": {},
   "source": [
    "* The major culprit seems to be movie titles with years not in parenthesis and movie titles with no years at all. \n",
    "* All of the problematic titles seem to be from movies released in the \"current\" year (2018 for the purposes of the data set)."
   ]
  },
  {
   "cell_type": "code",
   "execution_count": 7,
   "id": "95d03701-6754-484c-8fd4-7f1bef974882",
   "metadata": {},
   "outputs": [
    {
     "data": {
      "image/png": "[encoded data removed]",
      "text/plain": [
       "plot without title"
      ]
     },
     "metadata": {
      "image/png": {
       "height": 500,
       "width": 800
      }
     },
     "output_type": "display_data"
    }
   ],
   "source": [
    "df_ratings %>% \n",
    "  lazy_dt() %>% \n",
    "  select(year, title) %>% \n",
    "  filter(year >= 1874) %>% \n",
    "  distinct() %>% \n",
    "  group_by(year) %>% \n",
    "  summarise(\n",
    "    num_of_movies = n()\n",
    "  ) %>% \n",
    "  as_tibble() %>% \n",
    "  ggplot(mapping = aes(year, num_of_movies)) + \n",
    "  geom_line()"
   ]
  },
  {
   "cell_type": "code",
   "execution_count": 8,
   "id": "a4f4992a-99cc-4176-9179-810ca48d87d7",
   "metadata": {},
   "outputs": [
    {
     "data": {
      "image/png": "[encoded data removed]",
      "text/plain": [
       "plot without title"
      ]
     },
     "metadata": {
      "image/png": {
       "height": 500,
       "width": 800
      }
     },
     "output_type": "display_data"
    }
   ],
   "source": [
    "df_ratings %>% \n",
    "  lazy_dt() %>% \n",
    "  group_by(year) %>% \n",
    "  summarise(\n",
    "    avg_rating_of_movies = mean(rating, na.rm = T)\n",
    "  ) %>% \n",
    "  filter(year >= 1874) %>% \n",
    "  as_tibble() %>% \n",
    "  ggplot(mapping = aes(year, avg_rating_of_movies)) + \n",
    "  geom_line()"
   ]
  },
  {
   "cell_type": "markdown",
   "id": "fbbc02b5-ef68-48d3-8958-1deeef2f1856",
   "metadata": {},
   "source": [
    "The number of distinct movies appearing in the data set grows exponentially by year until around 2010. One hypothesis is that advances in technology and increasing population likely drove an expansion in the film and entertainment industry. However, there are a few other considerations to think about as well:\n",
    "\n",
    "* The underlying data generation process is contemporary: users in the 2000's are *retroactively* rating older movies. Therefore, the ratings in this data set do not necessarily reflect the public attitude for older movies during the time periods of their release.\n",
    "\n",
    "* This also means that the movies appearing in the data set are those which have survived in people's memory. Contemporary users are much more aware of all movies released in the 2000's and 2010's, so it makes sense that a lot of the movies from this time period show up in the data set. Many of older movies have likely been forgotten and hence we don't see nearly as many older movies show up in the data set.\n",
    "\n",
    "* The growth in movie titles really begins around 1930's, likely coinciding with the Great Depression (and later World War 2). These movies likely have historical relevance and more of these films were preserved, allowing them to survive to the modern day. Most of the films from 1870-1910's are likely forever lost to time.\n",
    "\n",
    "Interestingly, we also see that average movie ratings by year starts trending downward starting around 1975. The likely reason is survivor bias for 1920-1975 movies: old movies need to be good or fill a niche in order for current users to actually know about them. In other words: good movies leave a lasting legacy!"
   ]
  },
  {
   "cell_type": "code",
   "execution_count": null,
   "id": "d8bc86a6-ad92-4fd6-9ba0-fb3653552ac6",
   "metadata": {},
   "outputs": [],
   "source": []
  },
  {
   "cell_type": "code",
   "execution_count": null,
   "id": "86d559cd-7126-4c65-ad38-238bed8f240d",
   "metadata": {},
   "outputs": [],
   "source": []
  }
 ],
 "metadata": {
  "kernelspec": {
   "display_name": "R 4.2.1 Funny Looking Kid",
   "language": "R",
   "name": "ir_4_2"
  },
  "language_info": {
   "codemirror_mode": "r",
   "file_extension": ".r",
   "mimetype": "text/x-r-source",
   "name": "R",
   "pygments_lexer": "r",
   "version": "4.2.1"
  }
 },
 "nbformat": 4,
 "nbformat_minor": 5
}
